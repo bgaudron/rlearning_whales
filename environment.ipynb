{
 "cells": [
  {
   "cell_type": "code",
   "execution_count": 5,
   "metadata": {},
   "outputs": [],
   "source": [
    "import gym\n",
    "import pandas as pd\n",
    "from datetime import timedelta"
   ]
  },
  {
   "cell_type": "code",
   "execution_count": null,
   "metadata": {},
   "outputs": [],
   "source": [
    "class Ocean(gym.Env):\n",
    "    \"\"\"Custom Environment that follows gym interface\"\"\"\n",
    "    metadata = {'render.modes': ['human']}\n",
    "\n",
    "    def __init__(self):\n",
    "        super(Ocean, self).__init__()    \n",
    "        \n",
    "        self._load_data()\n",
    "\n",
    "        # Define 5 actions LEFT, RIGHT, UP, DOWN, NONE\n",
    "        self.action_space = spaces.Discrete(5)\n",
    "\n",
    "        # Define observation space as latitude and longitude\n",
    "        self.observation_space = spaces.Box(low=np.array(-90,-180), high=np.array(90,180), dtype=np.float16)\n",
    "\n",
    "        # Define delta space and time\n",
    "        self.ds = 0.0001 # degrees (around 10m)\n",
    "        self.dt = timedelta(minutes=1)\n",
    "        \n",
    "        # Set first state\n",
    "        self.reset()\n",
    "        \n",
    "    def _load_data(self):\n",
    "        \n",
    "        self.data = \n",
    "        \n",
    "    def step(self, action):\n",
    "        # Execute one time step within the environment\n",
    "        if action == 0:\n",
    "            self.state[1] -= self.ds\n",
    "        elif action == 1:\n",
    "            self.state[1] += self.ds\n",
    "        elif action == 2:\n",
    "            self.state[0] += self.ds\n",
    "        elif action == 3:\n",
    "            self.state[0] -= self.ds\n",
    "    \n",
    "    def reset(self):\n",
    "        self.state = data[0]\n",
    "    \n",
    "    def render(self, mode='human', close=False):\n",
    "        # Render the environment to the screen\n",
    "    "
   ]
  }
 ],
 "metadata": {
  "kernelspec": {
   "display_name": "Python 3",
   "language": "python",
   "name": "python3"
  },
  "language_info": {
   "codemirror_mode": {
    "name": "ipython",
    "version": 3
   },
   "file_extension": ".py",
   "mimetype": "text/x-python",
   "name": "python",
   "nbconvert_exporter": "python",
   "pygments_lexer": "ipython3",
   "version": "3.8.3"
  }
 },
 "nbformat": 4,
 "nbformat_minor": 4
}
